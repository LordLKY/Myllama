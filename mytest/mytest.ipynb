{
 "cells": [
  {
   "cell_type": "markdown",
   "metadata": {},
   "source": [
    "### 对模型中一些不太清楚的操作进行quick test"
   ]
  },
  {
   "cell_type": "code",
   "execution_count": 5,
   "metadata": {},
   "outputs": [],
   "source": [
    "import torch\n",
    "import math"
   ]
  },
  {
   "cell_type": "markdown",
   "metadata": {},
   "source": [
    "#### module in freqs_cis"
   ]
  },
  {
   "cell_type": "code",
   "execution_count": 7,
   "metadata": {},
   "outputs": [
    {
     "name": "stdout",
     "output_type": "stream",
     "text": [
      "x_y = tensor([[1., 1., 1., 1.],\n",
      "        [2., 2., 2., 2.],\n",
      "        [3., 3., 3., 3.],\n",
      "        [4., 4., 4., 4.]])\n",
      "complex_x_y = tensor([[ 0.5403+0.8415j,  0.5403+0.8415j,  0.5403+0.8415j,  0.5403+0.8415j],\n",
      "        [-0.4161+0.9093j, -0.4161+0.9093j, -0.4161+0.9093j, -0.4161+0.9093j],\n",
      "        [-0.9900+0.1411j, -0.9900+0.1411j, -0.9900+0.1411j, -0.9900+0.1411j],\n",
      "        [-0.6536-0.7568j, -0.6536-0.7568j, -0.6536-0.7568j, -0.6536-0.7568j]])\n",
      "verification: [(0.8415, 0.5403), (0.9093, -0.4161), (0.1411, -0.99), (-0.7568, -0.6536)]\n"
     ]
    }
   ],
   "source": [
    "x = torch.tensor([1, 2, 3, 4])\n",
    "y = torch.ones_like(x)\n",
    "\n",
    "x_y = torch.outer(x, y).float()\n",
    "complex_x_y = torch.polar(torch.ones_like(x_y), x_y)\n",
    "print(f'x_y = {x_y}')\n",
    "print(f'complex_x_y = {complex_x_y}')\n",
    "print(f'verification: {[(round(math.sin(i), 4), round(math.cos(i), 4)) for i in range(1, 5)]}')"
   ]
  },
  {
   "cell_type": "markdown",
   "metadata": {},
   "source": [
    "#### module in rotary_emb"
   ]
  },
  {
   "cell_type": "code",
   "execution_count": null,
   "metadata": {},
   "outputs": [],
   "source": [
    "x = torch.tensor([1, 2, 3, 4])\n",
    "new_x = torch.view_as_complex(x.float().reshape(*x.shape[:-1], -1, 2))\n",
    "print(f'x = {x}')\n",
    "print(f'complex_x = {new_x}')\n",
    "print(f'real_x = {torch.view_as_real(new_x).flatten(0)}')"
   ]
  }
 ],
 "metadata": {
  "kernelspec": {
   "display_name": "Py39",
   "language": "python",
   "name": "python3"
  },
  "language_info": {
   "codemirror_mode": {
    "name": "ipython",
    "version": 3
   },
   "file_extension": ".py",
   "mimetype": "text/x-python",
   "name": "python",
   "nbconvert_exporter": "python",
   "pygments_lexer": "ipython3",
   "version": "3.9.17"
  },
  "orig_nbformat": 4
 },
 "nbformat": 4,
 "nbformat_minor": 2
}
